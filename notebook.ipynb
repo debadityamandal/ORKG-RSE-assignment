{
 "cells": [
  {
   "cell_type": "markdown",
   "metadata": {},
   "source": [
    "# Instructions\n",
    "\n",
    "The assignment consists of the following task. \n",
    "\n",
    "Get familiar with the [ORKG API](https://www.orkg.org/orkg/doc/api/) and write the required Python code to retrieve the p-value of the statistical hypothesis test published in the [paper](https://www.orkg.org/orkg/paper/R4059) by Haddad et al. titled \"Iron-regulatory proteins secure iron availability in cardiomyocytes to prevent heart failure\" and display the numerical value as output.\n",
    "\n",
    "Return the assignment with the output visible.\n",
    "\n",
    "Good luck!"
   ]
  },
  {
   "cell_type": "code",
   "execution_count": 1,
   "metadata": {},
   "outputs": [],
   "source": [
    "import requests\n",
    "api = 'http://www.orkg.org/orkg/api/'"
   ]
  },
  {
   "cell_type": "code",
   "execution_count": 2,
   "metadata": {},
   "outputs": [],
   "source": [
    "def collect_nodes(statements,i):\n",
    "    if(len(statements)>0):\n",
    "        for row in statements:\n",
    "            if(row['object']['id'] not in nodes):\n",
    "                if(row['object']['_class']=='resource'):\n",
    "                    nodes.append(row['object']['id'])\n",
    "                elif(row['object']['_class']=='literal'):\n",
    "                    if('p-value' in row['subject']['label']):\n",
    "                        try:\n",
    "                            float(row['object']['label'])\n",
    "                            return row['object']['label']\n",
    "                        except ValueError:\n",
    "                            pass\n",
    "        while(i<len(nodes)):\n",
    "            statements=requests.get(api+'statements/subject/'+nodes[i]).json()\n",
    "            i+=1\n",
    "            value=collect_nodes(statements,i)\n",
    "            if(value):\n",
    "                return value\n",
    "    else:\n",
    "        return"
   ]
  },
  {
   "cell_type": "code",
   "execution_count": 3,
   "metadata": {},
   "outputs": [
    {
     "name": "stdout",
     "output_type": "stream",
     "text": [
      "1.3111247517411591e-08\n"
     ]
    }
   ],
   "source": [
    "resources=requests.get(api+'resources/?q=Iron-regulatory proteins secure iron availability in cardiomyocytes to prevent heart failure').json()\n",
    "nodes=[]\n",
    "i=0\n",
    "for row in resources:\n",
    "    statements=requests.get(api+'statements/subject/'+row['id']).json()\n",
    "    nodes.append(row['id'])\n",
    "    value=collect_nodes(statements,i)\n",
    "    if(value):\n",
    "        print(value)\n",
    "        break"
   ]
  },
  {
   "cell_type": "code",
   "execution_count": null,
   "metadata": {},
   "outputs": [],
   "source": []
  }
 ],
 "metadata": {
  "kernelspec": {
   "display_name": "Python 3",
   "language": "python",
   "name": "python3"
  },
  "language_info": {
   "codemirror_mode": {
    "name": "ipython",
    "version": 3
   },
   "file_extension": ".py",
   "mimetype": "text/x-python",
   "name": "python",
   "nbconvert_exporter": "python",
   "pygments_lexer": "ipython3",
   "version": "3.6.8"
  }
 },
 "nbformat": 4,
 "nbformat_minor": 4
}
